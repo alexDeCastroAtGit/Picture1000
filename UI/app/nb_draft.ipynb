{
 "cells": [
  {
   "cell_type": "code",
   "execution_count": 21,
   "metadata": {
    "collapsed": false
   },
   "outputs": [],
   "source": [
    "import EmoAPI\n",
    "import json\n",
    "path_to_image='../tmp/uploads/IMG_6316.JPG'\n",
    "with open(path_to_image,'rb') as f:\n",
    "            image_data=f.read()\n",
    "            emotions = EmoAPI.sentiment_analysis(image_data)\n"
   ]
  },
  {
   "cell_type": "code",
   "execution_count": 22,
   "metadata": {
    "collapsed": false
   },
   "outputs": [
    {
     "name": "stdout",
     "output_type": "stream",
     "text": [
      "[{'scores': {'sadness': 3.752089e-05, 'disgust': 0.000253129227, 'fear': 8.300069e-05, 'anger': 0.000154296562, 'happiness': 0.7157019, 'surprise': 0.270400077, 'neutral': 0.009529727, 'contempt': 0.00384039013}, 'faceRectangle': {'top': 188, 'width': 644, 'height': 644, 'left': 286}}]\n"
     ]
    },
    {
     "data": {
      "text/plain": [
       "list"
      ]
     },
     "execution_count": 22,
     "metadata": {},
     "output_type": "execute_result"
    }
   ],
   "source": [
    "print(emotions)\n",
    "type(emotions)"
   ]
  },
  {
   "cell_type": "code",
   "execution_count": 25,
   "metadata": {
    "collapsed": false
   },
   "outputs": [
    {
     "name": "stdout",
     "output_type": "stream",
     "text": [
      "<class 'dict'>\n",
      "<class 'str'>\n"
     ]
    }
   ],
   "source": [
    "print(type(emotions[0]['scores']))\n",
    "print(type(json.dumps(emotions)))"
   ]
  },
  {
   "cell_type": "code",
   "execution_count": null,
   "metadata": {
    "collapsed": true
   },
   "outputs": [],
   "source": []
  }
 ],
 "metadata": {
  "kernelspec": {
   "display_name": "Python [Root]",
   "language": "python",
   "name": "Python [Root]"
  },
  "language_info": {
   "codemirror_mode": {
    "name": "ipython",
    "version": 3
   },
   "file_extension": ".py",
   "mimetype": "text/x-python",
   "name": "python",
   "nbconvert_exporter": "python",
   "pygments_lexer": "ipython3",
   "version": "3.5.2"
  }
 },
 "nbformat": 4,
 "nbformat_minor": 0
}
